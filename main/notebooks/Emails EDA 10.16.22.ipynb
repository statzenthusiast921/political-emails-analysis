{
 "cells": [
  {
   "cell_type": "code",
   "execution_count": 1,
   "metadata": {},
   "outputs": [
    {
     "name": "stdout",
     "output_type": "stream",
     "text": [
      "(20000, 9)\n",
      "(20000, 9)\n",
      "(20000, 9)\n",
      "(23316, 9)\n"
     ]
    }
   ],
   "source": [
    "import pandas as pd\n",
    "\n",
    "df1=pd.read_csv(\"https://raw.githubusercontent.com/statzenthusiast921/political-emails-analysis/main/main/data/emails1_df.csv\")\n",
    "df2=pd.read_csv(\"https://raw.githubusercontent.com/statzenthusiast921/political-emails-analysis/main/main/data/emails2_df.csv\")\n",
    "df3=pd.read_csv(\"https://raw.githubusercontent.com/statzenthusiast921/political-emails-analysis/main/main/data/emails3_df.csv\")\n",
    "df4=pd.read_csv(\"https://raw.githubusercontent.com/statzenthusiast921/political-emails-analysis/main/main/data/emails4_df.csv\")\n",
    "\n",
    "print(df1.shape)\n",
    "print(df2.shape)\n",
    "print(df3.shape)\n",
    "print(df4.shape)"
   ]
  },
  {
   "cell_type": "code",
   "execution_count": 2,
   "metadata": {},
   "outputs": [
    {
     "data": {
      "text/html": [
       "<div>\n",
       "<style scoped>\n",
       "    .dataframe tbody tr th:only-of-type {\n",
       "        vertical-align: middle;\n",
       "    }\n",
       "\n",
       "    .dataframe tbody tr th {\n",
       "        vertical-align: top;\n",
       "    }\n",
       "\n",
       "    .dataframe thead th {\n",
       "        text-align: right;\n",
       "    }\n",
       "</style>\n",
       "<table border=\"1\" class=\"dataframe\">\n",
       "  <thead>\n",
       "    <tr style=\"text-align: right;\">\n",
       "      <th></th>\n",
       "      <th>sender</th>\n",
       "      <th>subject</th>\n",
       "      <th>date</th>\n",
       "      <th>body</th>\n",
       "      <th>party</th>\n",
       "      <th>country</th>\n",
       "      <th>locality</th>\n",
       "      <th>office</th>\n",
       "    </tr>\n",
       "  </thead>\n",
       "  <tbody>\n",
       "    <tr>\n",
       "      <th>1</th>\n",
       "      <td>JusticeDemocrats.com &lt;[email protected]&gt;</td>\n",
       "      <td>Critical preparations</td>\n",
       "      <td>July 3, 2019 11:28 PM</td>\n",
       "      <td>[1]Justice Democrats\\n\\r\\n   John -- \\n\\r\\n   ...</td>\n",
       "      <td>Political Party:\\nDemocratic</td>\n",
       "      <td>Country:\\n\\nUnited States</td>\n",
       "      <td>State/Locality:\\n\\t\\t\\t\\t\\t\\t\\t\\t\\t\\t\\t\\t\\tn/a</td>\n",
       "      <td>Office:\\n\\t\\t\\t\\t\\t\\t\\t\\t\\t\\t\\t\\t\\tn/a</td>\n",
       "    </tr>\n",
       "    <tr>\n",
       "      <th>2</th>\n",
       "      <td>Ana Maria Archila &lt;[email protected]&gt;</td>\n",
       "      <td>TAKE ACTION for Freedom: #CloseTheCamps</td>\n",
       "      <td>July 3, 2019 11:31 PM</td>\n",
       "      <td>Dear friend,\\n\\r\\n \\n\\r\\nWe have all seen the ...</td>\n",
       "      <td>Political Party:\\n\\t\\t\\t\\t\\t\\t\\t\\t\\t\\t\\t\\t\\tn/a</td>\n",
       "      <td>Country:\\n\\nUnited States</td>\n",
       "      <td>State/Locality:\\n\\t\\t\\t\\t\\t\\t\\t\\t\\t\\t\\t\\t\\tn/a</td>\n",
       "      <td>Office:\\n\\t\\t\\t\\t\\t\\t\\t\\t\\t\\t\\t\\t\\tn/a</td>\n",
       "    </tr>\n",
       "  </tbody>\n",
       "</table>\n",
       "</div>"
      ],
      "text/plain": [
       "                                     sender  \\\n",
       "1  JusticeDemocrats.com <[email protected]>   \n",
       "2     Ana Maria Archila <[email protected]>   \n",
       "\n",
       "                                   subject                   date  \\\n",
       "1                    Critical preparations  July 3, 2019 11:28 PM   \n",
       "2  TAKE ACTION for Freedom: #CloseTheCamps  July 3, 2019 11:31 PM   \n",
       "\n",
       "                                                body  \\\n",
       "1  [1]Justice Democrats\\n\\r\\n   John -- \\n\\r\\n   ...   \n",
       "2  Dear friend,\\n\\r\\n \\n\\r\\nWe have all seen the ...   \n",
       "\n",
       "                                             party                    country  \\\n",
       "1                     Political Party:\\nDemocratic  Country:\\n\\nUnited States   \n",
       "2  Political Party:\\n\\t\\t\\t\\t\\t\\t\\t\\t\\t\\t\\t\\t\\tn/a  Country:\\n\\nUnited States   \n",
       "\n",
       "                                         locality  \\\n",
       "1  State/Locality:\\n\\t\\t\\t\\t\\t\\t\\t\\t\\t\\t\\t\\t\\tn/a   \n",
       "2  State/Locality:\\n\\t\\t\\t\\t\\t\\t\\t\\t\\t\\t\\t\\t\\tn/a   \n",
       "\n",
       "                                   office  \n",
       "1  Office:\\n\\t\\t\\t\\t\\t\\t\\t\\t\\t\\t\\t\\t\\tn/a  \n",
       "2  Office:\\n\\t\\t\\t\\t\\t\\t\\t\\t\\t\\t\\t\\t\\tn/a  "
      ]
     },
     "execution_count": 2,
     "metadata": {},
     "output_type": "execute_result"
    }
   ],
   "source": [
    "#Stack 4 dataframes together\n",
    "df = pd.concat([df1, df2, df3, df4], ignore_index=True, axis=0)\n",
    "#Delete first row\n",
    "df = df[1:]\n",
    "#Delete first column\n",
    "df = df.iloc[: , 1:]\n",
    "#Preview dataframe\n",
    "df.head(2)"
   ]
  },
  {
   "cell_type": "code",
   "execution_count": 3,
   "metadata": {},
   "outputs": [
    {
     "data": {
      "text/plain": [
       "sender      string\n",
       "subject     string\n",
       "date        string\n",
       "body        string\n",
       "party       string\n",
       "country     string\n",
       "locality    string\n",
       "office      object\n",
       "dtype: object"
      ]
     },
     "execution_count": 3,
     "metadata": {},
     "output_type": "execute_result"
    }
   ],
   "source": [
    "#Clean up columns - change data type\n",
    "df['sender'] = df['sender'].astype('string')\n",
    "df['subject'] = df['subject'].astype('string')\n",
    "df['date'] = df['date'].astype('string')\n",
    "df['body'] = df['body'].astype('string')\n",
    "df['party'] = df['party'].astype('string')\n",
    "df['country'] = df['country'].astype('string')\n",
    "df['locality'] = df['locality'].astype('string')\n",
    "df.dtypes"
   ]
  },
  {
   "cell_type": "code",
   "execution_count": 15,
   "metadata": {},
   "outputs": [
    {
     "data": {
      "text/html": [
       "<div>\n",
       "<style scoped>\n",
       "    .dataframe tbody tr th:only-of-type {\n",
       "        vertical-align: middle;\n",
       "    }\n",
       "\n",
       "    .dataframe tbody tr th {\n",
       "        vertical-align: top;\n",
       "    }\n",
       "\n",
       "    .dataframe thead th {\n",
       "        text-align: right;\n",
       "    }\n",
       "</style>\n",
       "<table border=\"1\" class=\"dataframe\">\n",
       "  <thead>\n",
       "    <tr style=\"text-align: right;\">\n",
       "      <th></th>\n",
       "      <th>sender</th>\n",
       "      <th>subject</th>\n",
       "      <th>date</th>\n",
       "      <th>body</th>\n",
       "      <th>party</th>\n",
       "      <th>country</th>\n",
       "      <th>locality</th>\n",
       "      <th>office</th>\n",
       "    </tr>\n",
       "  </thead>\n",
       "  <tbody>\n",
       "    <tr>\n",
       "      <th>1</th>\n",
       "      <td>JusticeDemocrats.com</td>\n",
       "      <td>Critical preparations</td>\n",
       "      <td>July 3, 2019 11:28 PM</td>\n",
       "      <td>Justice Democrats John Last month, we needed t...</td>\n",
       "      <td>Democratic</td>\n",
       "      <td>United States</td>\n",
       "      <td>n/a</td>\n",
       "      <td>n/a</td>\n",
       "    </tr>\n",
       "    <tr>\n",
       "      <th>2</th>\n",
       "      <td>Ana Maria Archila</td>\n",
       "      <td>TAKE ACTION for Freedom: #CloseTheCamps</td>\n",
       "      <td>July 3, 2019 11:31 PM</td>\n",
       "      <td>Dear friend,We have all seen the images and re...</td>\n",
       "      <td>n/a</td>\n",
       "      <td>United States</td>\n",
       "      <td>n/a</td>\n",
       "      <td>n/a</td>\n",
       "    </tr>\n",
       "  </tbody>\n",
       "</table>\n",
       "</div>"
      ],
      "text/plain": [
       "                  sender                                  subject  \\\n",
       "1  JusticeDemocrats.com                     Critical preparations   \n",
       "2     Ana Maria Archila   TAKE ACTION for Freedom: #CloseTheCamps   \n",
       "\n",
       "                    date                                               body  \\\n",
       "1  July 3, 2019 11:28 PM  Justice Democrats John Last month, we needed t...   \n",
       "2  July 3, 2019 11:31 PM  Dear friend,We have all seen the images and re...   \n",
       "\n",
       "        party        country locality office  \n",
       "1  Democratic  United States      n/a    n/a  \n",
       "2         n/a  United States      n/a    n/a  "
      ]
     },
     "execution_count": 15,
     "metadata": {},
     "output_type": "execute_result"
    }
   ],
   "source": [
    "import re \n",
    "\n",
    "df['party'] = df['party'].replace('Political Party:','',regex=True)\n",
    "df['country'] = df['country'].replace('Country:','',regex=True)\n",
    "df['locality'] = df['locality'].replace('State/Locality:','',regex=True)\n",
    "df['office'] = df['office'].replace('Office:','',regex=True)\n",
    "df = df.replace('\\n','',regex=True)\n",
    "df = df.replace('\\t','',regex=True)\n",
    "df['sender'] = df['sender'].replace('<','',regex=True)\n",
    "df['sender'] = df['sender'].replace('>','',regex=True)\n",
    "\n",
    "def remove_brackets_contents(text):\n",
    "    pattern = r\"\\[.*?\\]\"\n",
    "    return re.sub(pattern, \" \", text)\n",
    "\n",
    "\n",
    "def remove_special_characters(text):\n",
    "    # define the pattern to keep\n",
    "    pat = r'[^a-zA-z0-9.,!?/:;\\\"\\'\\s]' \n",
    "    return re.sub(pat, ' ', text)\n",
    "\n",
    "df.loc[:,'sender'] = df['sender'].apply(func = remove_brackets_contents)\n",
    "\n",
    "\n",
    "df.head(2)"
   ]
  },
  {
   "cell_type": "code",
   "execution_count": 61,
   "metadata": {},
   "outputs": [],
   "source": [
    "#Cleaning up the email body column\n",
    "import warnings\n",
    "warnings.filterwarnings('ignore')\n",
    "\n",
    "df['body'] = df['body'].replace('\\n','',regex=True)\n",
    "df['body'] = df['body'].replace('\\r','',regex=True)\n",
    "df.loc[:,'body'] = df['body'].apply(func = remove_brackets_contents)\n",
    "df.loc[:,'body'] = df['body'].apply(func = remove_special_characters)\n",
    "\n",
    "\n",
    "df['body'] = df['body'].replace('   ',' ',regex=True)\n",
    "df['body'] = df['body'].replace('    ',' ',regex=True)\n",
    "df['body'] = df['body'].replace('     ',' ',regex=True)\n",
    "\n",
    "df['body'] = df['body'].replace(']',' ',regex=True)\n",
    "df['body'] = df['body'].replace('\\xa0',' ',regex=True)\n",
    "df['body'] = df['body'].replace('almostdaily','almost daily',regex=True)\n",
    "\n",
    "\n",
    "#Remove all the text that follows these sentences\n",
    "df['body'] = df['body'].str.replace(\"(If you need to remove yourself from our email).*\",\"\")\n",
    "df['body'] = df['body'].str.replace(\"(Email is the most important way).*\",\"\")\n",
    "df['body'] = df['body'].str.replace(\"(This email was sent to).*\",\"\")\n",
    "df['body'] = df['body'].str.replace(\"(Thank you for speaking).*\",\"\")\n",
    "df['body'] = df['body'].str.replace(\"(All Rights Reserved).*\",\"\")\n",
    "df['body'] = df['body'].str.replace(\"(mailto:).*\",\"\")\n",
    "df['body'] = df['body'].str.replace(\"(Thank you for choosing to fight).*\",\"\")\n",
    "df['body'] = df['body'].str.replace(\"(Paid for by).*\",\"\")\n",
    "df['body'] = df['body'].str.replace(\"(We look forward to hearing from you).*\",\"\")\n",
    "df['body'] = df['body'].str.replace(\"(PAID FOR BY).*\",\"\")\n",
    "df['body'] = df['body'].str.replace(\"(Thanks for your).*\",\"\")\n",
    "df['body'] = df['body'].str.replace(\"(All rights reserved).*\",\"\")\n",
    "df['body'] = df['body'].str.replace(\"(unsubscribe).*\",\"\")\n",
    "df['body'] = df['body'].str.replace(\"(Sincerely).*\",\"\")\n",
    "df['body'] = df['body'].str.replace(\"(Facebook).*\",\"\")\n",
    "df['body'] = df['body'].str.replace(\"(Twitter).*\",\"\")\n",
    "df['body'] = df['body'].str.replace(\"(Please, sign your name).*\",\"\")\n",
    "df['body'] = df['body'].str.replace(\"(CONTRIBUTE).*\",\"\")\n",
    "df['body'] = df['body'].str.replace(\"(Contribute).*\",\"\")\n",
    "\n"
   ]
  },
  {
   "cell_type": "code",
   "execution_count": 70,
   "metadata": {},
   "outputs": [
    {
     "data": {
      "text/plain": [
       "'July 5, 2019 2:01 PM'"
      ]
     },
     "execution_count": 70,
     "metadata": {},
     "output_type": "execute_result"
    }
   ],
   "source": [
    "#Break up date column into date and time columns\n",
    "df['date'][100]"
   ]
  },
  {
   "cell_type": "code",
   "execution_count": null,
   "metadata": {},
   "outputs": [],
   "source": []
  }
 ],
 "metadata": {
  "kernelspec": {
   "display_name": "Python 3",
   "language": "python",
   "name": "python3"
  },
  "language_info": {
   "codemirror_mode": {
    "name": "ipython",
    "version": 3
   },
   "file_extension": ".py",
   "mimetype": "text/x-python",
   "name": "python",
   "nbconvert_exporter": "python",
   "pygments_lexer": "ipython3",
   "version": "3.8.3"
  }
 },
 "nbformat": 4,
 "nbformat_minor": 2
}
