{
 "cells": [
  {
   "cell_type": "markdown",
   "metadata": {},
   "source": [
    "### EDA for Political Email Database"
   ]
  },
  {
   "cell_type": "code",
   "execution_count": 1,
   "metadata": {},
   "outputs": [
    {
     "name": "stdout",
     "output_type": "stream",
     "text": [
      "(20000, 9)\n",
      "(20000, 9)\n",
      "(20000, 9)\n",
      "(23316, 9)\n"
     ]
    }
   ],
   "source": [
    "#Read in the data\n",
    "import pandas as pd\n",
    "\n",
    "df1=pd.read_csv(\"https://raw.githubusercontent.com/statzenthusiast921/political-emails-analysis/main/main/data/emails1_df.csv\")\n",
    "df2=pd.read_csv(\"https://raw.githubusercontent.com/statzenthusiast921/political-emails-analysis/main/main/data/emails2_df.csv\")\n",
    "df3=pd.read_csv(\"https://raw.githubusercontent.com/statzenthusiast921/political-emails-analysis/main/main/data/emails3_df.csv\")\n",
    "df4=pd.read_csv(\"https://raw.githubusercontent.com/statzenthusiast921/political-emails-analysis/main/main/data/emails4_df.csv\")\n",
    "\n",
    "print(df1.shape)\n",
    "print(df2.shape)\n",
    "print(df3.shape)\n",
    "print(df4.shape)"
   ]
  },
  {
   "cell_type": "code",
   "execution_count": 7,
   "metadata": {},
   "outputs": [
    {
     "data": {
      "text/html": [
       "<div>\n",
       "<style scoped>\n",
       "    .dataframe tbody tr th:only-of-type {\n",
       "        vertical-align: middle;\n",
       "    }\n",
       "\n",
       "    .dataframe tbody tr th {\n",
       "        vertical-align: top;\n",
       "    }\n",
       "\n",
       "    .dataframe thead th {\n",
       "        text-align: right;\n",
       "    }\n",
       "</style>\n",
       "<table border=\"1\" class=\"dataframe\">\n",
       "  <thead>\n",
       "    <tr style=\"text-align: right;\">\n",
       "      <th></th>\n",
       "      <th>sender</th>\n",
       "      <th>subject</th>\n",
       "      <th>date</th>\n",
       "      <th>body</th>\n",
       "      <th>party</th>\n",
       "      <th>country</th>\n",
       "      <th>locality</th>\n",
       "      <th>office</th>\n",
       "    </tr>\n",
       "  </thead>\n",
       "  <tbody>\n",
       "    <tr>\n",
       "      <th>1</th>\n",
       "      <td>JusticeDemocrats.com &lt;[email protected]&gt;</td>\n",
       "      <td>Critical preparations</td>\n",
       "      <td>July 3, 2019 11:28 PM</td>\n",
       "      <td>[1]Justice Democrats\\n\\r\\n   John -- \\n\\r\\n   ...</td>\n",
       "      <td>Political Party:\\nDemocratic</td>\n",
       "      <td>Country:\\n\\nUnited States</td>\n",
       "      <td>State/Locality:\\n\\t\\t\\t\\t\\t\\t\\t\\t\\t\\t\\t\\t\\tn/a</td>\n",
       "      <td>Office:\\n\\t\\t\\t\\t\\t\\t\\t\\t\\t\\t\\t\\t\\tn/a</td>\n",
       "    </tr>\n",
       "    <tr>\n",
       "      <th>2</th>\n",
       "      <td>Ana Maria Archila &lt;[email protected]&gt;</td>\n",
       "      <td>TAKE ACTION for Freedom: #CloseTheCamps</td>\n",
       "      <td>July 3, 2019 11:31 PM</td>\n",
       "      <td>Dear friend,\\n\\r\\n \\n\\r\\nWe have all seen the ...</td>\n",
       "      <td>Political Party:\\n\\t\\t\\t\\t\\t\\t\\t\\t\\t\\t\\t\\t\\tn/a</td>\n",
       "      <td>Country:\\n\\nUnited States</td>\n",
       "      <td>State/Locality:\\n\\t\\t\\t\\t\\t\\t\\t\\t\\t\\t\\t\\t\\tn/a</td>\n",
       "      <td>Office:\\n\\t\\t\\t\\t\\t\\t\\t\\t\\t\\t\\t\\t\\tn/a</td>\n",
       "    </tr>\n",
       "  </tbody>\n",
       "</table>\n",
       "</div>"
      ],
      "text/plain": [
       "                                     sender  \\\n",
       "1  JusticeDemocrats.com <[email protected]>   \n",
       "2     Ana Maria Archila <[email protected]>   \n",
       "\n",
       "                                   subject                   date  \\\n",
       "1                    Critical preparations  July 3, 2019 11:28 PM   \n",
       "2  TAKE ACTION for Freedom: #CloseTheCamps  July 3, 2019 11:31 PM   \n",
       "\n",
       "                                                body  \\\n",
       "1  [1]Justice Democrats\\n\\r\\n   John -- \\n\\r\\n   ...   \n",
       "2  Dear friend,\\n\\r\\n \\n\\r\\nWe have all seen the ...   \n",
       "\n",
       "                                             party                    country  \\\n",
       "1                     Political Party:\\nDemocratic  Country:\\n\\nUnited States   \n",
       "2  Political Party:\\n\\t\\t\\t\\t\\t\\t\\t\\t\\t\\t\\t\\t\\tn/a  Country:\\n\\nUnited States   \n",
       "\n",
       "                                         locality  \\\n",
       "1  State/Locality:\\n\\t\\t\\t\\t\\t\\t\\t\\t\\t\\t\\t\\t\\tn/a   \n",
       "2  State/Locality:\\n\\t\\t\\t\\t\\t\\t\\t\\t\\t\\t\\t\\t\\tn/a   \n",
       "\n",
       "                                   office  \n",
       "1  Office:\\n\\t\\t\\t\\t\\t\\t\\t\\t\\t\\t\\t\\t\\tn/a  \n",
       "2  Office:\\n\\t\\t\\t\\t\\t\\t\\t\\t\\t\\t\\t\\t\\tn/a  "
      ]
     },
     "execution_count": 7,
     "metadata": {},
     "output_type": "execute_result"
    }
   ],
   "source": [
    "#Stack 4 dataframes together\n",
    "df = pd.concat([df1, df2, df3, df4], ignore_index=True, axis=0)\n",
    "#Delete first row and column\n",
    "df = df[1:]\n",
    "df = df.iloc[: , 1:]\n",
    "#Preview dataframe\n",
    "df.head(2)"
   ]
  },
  {
   "cell_type": "markdown",
   "metadata": {},
   "source": [
    "### Clean up various columns"
   ]
  },
  {
   "cell_type": "code",
   "execution_count": 8,
   "metadata": {},
   "outputs": [
    {
     "data": {
      "text/plain": [
       "sender      string\n",
       "subject     string\n",
       "date        string\n",
       "body        string\n",
       "party       string\n",
       "country     string\n",
       "locality    string\n",
       "office      object\n",
       "dtype: object"
      ]
     },
     "execution_count": 8,
     "metadata": {},
     "output_type": "execute_result"
    }
   ],
   "source": [
    "#Clean up columns - change data type\n",
    "df['sender'] = df['sender'].astype('string')\n",
    "df['subject'] = df['subject'].astype('string')\n",
    "df['date'] = df['date'].astype('string')\n",
    "df['body'] = df['body'].astype('string')\n",
    "df['party'] = df['party'].astype('string')\n",
    "df['country'] = df['country'].astype('string')\n",
    "df['locality'] = df['locality'].astype('string')\n",
    "df.dtypes"
   ]
  },
  {
   "cell_type": "code",
   "execution_count": 9,
   "metadata": {},
   "outputs": [
    {
     "data": {
      "text/html": [
       "<div>\n",
       "<style scoped>\n",
       "    .dataframe tbody tr th:only-of-type {\n",
       "        vertical-align: middle;\n",
       "    }\n",
       "\n",
       "    .dataframe tbody tr th {\n",
       "        vertical-align: top;\n",
       "    }\n",
       "\n",
       "    .dataframe thead th {\n",
       "        text-align: right;\n",
       "    }\n",
       "</style>\n",
       "<table border=\"1\" class=\"dataframe\">\n",
       "  <thead>\n",
       "    <tr style=\"text-align: right;\">\n",
       "      <th></th>\n",
       "      <th>sender</th>\n",
       "      <th>subject</th>\n",
       "      <th>date</th>\n",
       "      <th>body</th>\n",
       "      <th>party</th>\n",
       "      <th>country</th>\n",
       "      <th>locality</th>\n",
       "      <th>office</th>\n",
       "    </tr>\n",
       "  </thead>\n",
       "  <tbody>\n",
       "    <tr>\n",
       "      <th>1</th>\n",
       "      <td>JusticeDemocrats.com</td>\n",
       "      <td>Critical preparations</td>\n",
       "      <td>July 3, 2019 11:28 PM</td>\n",
       "      <td>[1]Justice Democrats\r",
       "   John -- \r",
       "   Last month...</td>\n",
       "      <td>Democratic</td>\n",
       "      <td>United States</td>\n",
       "      <td>n/a</td>\n",
       "      <td>n/a</td>\n",
       "    </tr>\n",
       "    <tr>\n",
       "      <th>2</th>\n",
       "      <td>Ana Maria Archila</td>\n",
       "      <td>TAKE ACTION for Freedom: #CloseTheCamps</td>\n",
       "      <td>July 3, 2019 11:31 PM</td>\n",
       "      <td>Dear friend,\r",
       " \r",
       "We have all seen the images and...</td>\n",
       "      <td>n/a</td>\n",
       "      <td>United States</td>\n",
       "      <td>n/a</td>\n",
       "      <td>n/a</td>\n",
       "    </tr>\n",
       "  </tbody>\n",
       "</table>\n",
       "</div>"
      ],
      "text/plain": [
       "                   sender                                  subject  \\\n",
       "1  JusticeDemocrats.com                      Critical preparations   \n",
       "2     Ana Maria Archila    TAKE ACTION for Freedom: #CloseTheCamps   \n",
       "\n",
       "                    date                                               body  \\\n",
       "1  July 3, 2019 11:28 PM  [1]Justice Democrats\n",
       "   John -- \n",
       "   Last month...   \n",
       "2  July 3, 2019 11:31 PM  Dear friend,\n",
       " \n",
       "We have all seen the images and...   \n",
       "\n",
       "        party        country locality office  \n",
       "1  Democratic  United States      n/a    n/a  \n",
       "2         n/a  United States      n/a    n/a  "
      ]
     },
     "execution_count": 9,
     "metadata": {},
     "output_type": "execute_result"
    }
   ],
   "source": [
    "#Clean up text columns\n",
    "\n",
    "import re \n",
    "\n",
    "df['party'] = df['party'].replace('Political Party:','',regex=True)\n",
    "df['country'] = df['country'].replace('Country:','',regex=True)\n",
    "df['locality'] = df['locality'].replace('State/Locality:','',regex=True)\n",
    "df['office'] = df['office'].replace('Office:','',regex=True)\n",
    "df = df.replace('\\n','',regex=True)\n",
    "df = df.replace('\\t','',regex=True)\n",
    "df['sender'] = df['sender'].replace('<','',regex=True)\n",
    "df['sender'] = df['sender'].replace('>','',regex=True)\n",
    "\n",
    "def remove_brackets_contents(text):\n",
    "    pattern = r\"\\[.*?\\]\"\n",
    "    return re.sub(pattern, \" \", text)\n",
    "\n",
    "\n",
    "def remove_special_characters(text):\n",
    "    # define the pattern to keep\n",
    "    pat = r'[^a-zA-z0-9.,!?/:;\\\"\\'\\s]' \n",
    "    return re.sub(pat, ' ', text)\n",
    "\n",
    "df.loc[:,'sender'] = df['sender'].apply(func = remove_brackets_contents)\n",
    "\n",
    "\n",
    "df.head(2)"
   ]
  },
  {
   "cell_type": "code",
   "execution_count": 10,
   "metadata": {},
   "outputs": [],
   "source": [
    "#Cleaning up the email body column\n",
    "import warnings\n",
    "warnings.filterwarnings('ignore')\n",
    "\n",
    "df['body'] = df['body'].replace('\\n','',regex=True)\n",
    "df['body'] = df['body'].replace('\\r','',regex=True)\n",
    "df.loc[:,'body'] = df['body'].apply(func = remove_brackets_contents)\n",
    "df.loc[:,'body'] = df['body'].apply(func = remove_special_characters)\n",
    "\n",
    "\n",
    "df['body'] = df['body'].replace('   ',' ',regex=True)\n",
    "df['body'] = df['body'].replace('    ',' ',regex=True)\n",
    "df['body'] = df['body'].replace('     ',' ',regex=True)\n",
    "\n",
    "df['body'] = df['body'].replace(']',' ',regex=True)\n",
    "df['body'] = df['body'].replace('\\xa0',' ',regex=True)\n",
    "df['body'] = df['body'].replace('almostdaily','almost daily',regex=True)\n",
    "\n",
    "\n",
    "#Remove all the text that follows these sentences\n",
    "df['body'] = df['body'].str.replace(\"(If you need to remove yourself from our email).*\",\"\")\n",
    "df['body'] = df['body'].str.replace(\"(Email is the most important way).*\",\"\")\n",
    "df['body'] = df['body'].str.replace(\"(This email was sent to).*\",\"\")\n",
    "df['body'] = df['body'].str.replace(\"(Thank you for speaking).*\",\"\")\n",
    "df['body'] = df['body'].str.replace(\"(All Rights Reserved).*\",\"\")\n",
    "df['body'] = df['body'].str.replace(\"(mailto:).*\",\"\")\n",
    "df['body'] = df['body'].str.replace(\"(Thank you for choosing to fight).*\",\"\")\n",
    "df['body'] = df['body'].str.replace(\"(Paid for by).*\",\"\")\n",
    "df['body'] = df['body'].str.replace(\"(We look forward to hearing from you).*\",\"\")\n",
    "df['body'] = df['body'].str.replace(\"(PAID FOR BY).*\",\"\")\n",
    "df['body'] = df['body'].str.replace(\"(Thanks for your).*\",\"\")\n",
    "df['body'] = df['body'].str.replace(\"(All rights reserved).*\",\"\")\n",
    "df['body'] = df['body'].str.replace(\"(unsubscribe).*\",\"\")\n",
    "df['body'] = df['body'].str.replace(\"(Sincerely).*\",\"\")\n",
    "df['body'] = df['body'].str.replace(\"(Facebook).*\",\"\")\n",
    "df['body'] = df['body'].str.replace(\"(Twitter).*\",\"\")\n",
    "df['body'] = df['body'].str.replace(\"(Please, sign your name).*\",\"\")\n",
    "df['body'] = df['body'].str.replace(\"(CONTRIBUTE).*\",\"\")\n",
    "df['body'] = df['body'].str.replace(\"(Contribute).*\",\"\")"
   ]
  },
  {
   "cell_type": "markdown",
   "metadata": {},
   "source": [
    "### Create features"
   ]
  },
  {
   "cell_type": "code",
   "execution_count": 11,
   "metadata": {},
   "outputs": [
    {
     "name": "stdout",
     "output_type": "stream",
     "text": [
      "July 3, 2019\n",
      "11:28 PM\n"
     ]
    }
   ],
   "source": [
    "df[['split1','split2','split3','split4','split5']] = df['date'].str.split(' ',expand=True)\n",
    "df['date'] = df['split1'] + ' ' + df['split2'] + ' ' + df['split3']\n",
    "df['time'] = df['split4'] + ' ' + df['split5']\n",
    "\n",
    "del df['split1'], df['split2'], df['split3'], df['split4'], df['split5']\n",
    "print(df['date'][1])\n",
    "print(df['time'][1])"
   ]
  },
  {
   "cell_type": "code",
   "execution_count": 12,
   "metadata": {
    "scrolled": true
   },
   "outputs": [
    {
     "data": {
      "text/html": [
       "<div>\n",
       "<style scoped>\n",
       "    .dataframe tbody tr th:only-of-type {\n",
       "        vertical-align: middle;\n",
       "    }\n",
       "\n",
       "    .dataframe tbody tr th {\n",
       "        vertical-align: top;\n",
       "    }\n",
       "\n",
       "    .dataframe thead th {\n",
       "        text-align: right;\n",
       "    }\n",
       "</style>\n",
       "<table border=\"1\" class=\"dataframe\">\n",
       "  <thead>\n",
       "    <tr style=\"text-align: right;\">\n",
       "      <th></th>\n",
       "      <th>sender</th>\n",
       "      <th>subject</th>\n",
       "      <th>date</th>\n",
       "      <th>body</th>\n",
       "      <th>party</th>\n",
       "      <th>country</th>\n",
       "      <th>locality</th>\n",
       "      <th>office</th>\n",
       "      <th>time</th>\n",
       "    </tr>\n",
       "  </thead>\n",
       "  <tbody>\n",
       "    <tr>\n",
       "      <th>1</th>\n",
       "      <td>JusticeDemocrats.com</td>\n",
       "      <td>Critical preparations</td>\n",
       "      <td>July 3, 2019</td>\n",
       "      <td>Justice Democrats John   Last month, we neede...</td>\n",
       "      <td>Democratic</td>\n",
       "      <td>United States</td>\n",
       "      <td>n/a</td>\n",
       "      <td>n/a</td>\n",
       "      <td>11:28 PM</td>\n",
       "    </tr>\n",
       "    <tr>\n",
       "      <th>2</th>\n",
       "      <td>Ana Maria Archila</td>\n",
       "      <td>TAKE ACTION for Freedom: #CloseTheCamps</td>\n",
       "      <td>July 3, 2019</td>\n",
       "      <td>Dear friend, We have all seen the images and r...</td>\n",
       "      <td>n/a</td>\n",
       "      <td>United States</td>\n",
       "      <td>n/a</td>\n",
       "      <td>n/a</td>\n",
       "      <td>11:31 PM</td>\n",
       "    </tr>\n",
       "  </tbody>\n",
       "</table>\n",
       "</div>"
      ],
      "text/plain": [
       "                   sender                                  subject  \\\n",
       "1  JusticeDemocrats.com                      Critical preparations   \n",
       "2     Ana Maria Archila    TAKE ACTION for Freedom: #CloseTheCamps   \n",
       "\n",
       "           date                                               body  \\\n",
       "1  July 3, 2019   Justice Democrats John   Last month, we neede...   \n",
       "2  July 3, 2019  Dear friend, We have all seen the images and r...   \n",
       "\n",
       "        party        country locality office      time  \n",
       "1  Democratic  United States      n/a    n/a  11:28 PM  \n",
       "2         n/a  United States      n/a    n/a  11:31 PM  "
      ]
     },
     "execution_count": 12,
     "metadata": {},
     "output_type": "execute_result"
    }
   ],
   "source": [
    "df.head(2)"
   ]
  },
  {
   "cell_type": "code",
   "execution_count": 13,
   "metadata": {
    "scrolled": true
   },
   "outputs": [
    {
     "data": {
      "text/html": [
       "<div>\n",
       "<style scoped>\n",
       "    .dataframe tbody tr th:only-of-type {\n",
       "        vertical-align: middle;\n",
       "    }\n",
       "\n",
       "    .dataframe tbody tr th {\n",
       "        vertical-align: top;\n",
       "    }\n",
       "\n",
       "    .dataframe thead th {\n",
       "        text-align: right;\n",
       "    }\n",
       "</style>\n",
       "<table border=\"1\" class=\"dataframe\">\n",
       "  <thead>\n",
       "    <tr style=\"text-align: right;\">\n",
       "      <th></th>\n",
       "      <th>sender</th>\n",
       "      <th>subject</th>\n",
       "      <th>date</th>\n",
       "      <th>body</th>\n",
       "      <th>party</th>\n",
       "      <th>country</th>\n",
       "      <th>locality</th>\n",
       "      <th>office</th>\n",
       "      <th>time</th>\n",
       "      <th>AM_PM</th>\n",
       "      <th>Hour</th>\n",
       "      <th>Hour_Mil</th>\n",
       "    </tr>\n",
       "  </thead>\n",
       "  <tbody>\n",
       "    <tr>\n",
       "      <th>1</th>\n",
       "      <td>JusticeDemocrats.com</td>\n",
       "      <td>Critical preparations</td>\n",
       "      <td>July 3, 2019</td>\n",
       "      <td>Justice Democrats John   Last month, we neede...</td>\n",
       "      <td>Democratic</td>\n",
       "      <td>United States</td>\n",
       "      <td>n/a</td>\n",
       "      <td>n/a</td>\n",
       "      <td>11:28 PM</td>\n",
       "      <td>PM</td>\n",
       "      <td>11</td>\n",
       "      <td>23</td>\n",
       "    </tr>\n",
       "    <tr>\n",
       "      <th>2</th>\n",
       "      <td>Ana Maria Archila</td>\n",
       "      <td>TAKE ACTION for Freedom: #CloseTheCamps</td>\n",
       "      <td>July 3, 2019</td>\n",
       "      <td>Dear friend, We have all seen the images and r...</td>\n",
       "      <td>n/a</td>\n",
       "      <td>United States</td>\n",
       "      <td>n/a</td>\n",
       "      <td>n/a</td>\n",
       "      <td>11:31 PM</td>\n",
       "      <td>PM</td>\n",
       "      <td>11</td>\n",
       "      <td>23</td>\n",
       "    </tr>\n",
       "  </tbody>\n",
       "</table>\n",
       "</div>"
      ],
      "text/plain": [
       "                   sender                                  subject  \\\n",
       "1  JusticeDemocrats.com                      Critical preparations   \n",
       "2     Ana Maria Archila    TAKE ACTION for Freedom: #CloseTheCamps   \n",
       "\n",
       "           date                                               body  \\\n",
       "1  July 3, 2019   Justice Democrats John   Last month, we neede...   \n",
       "2  July 3, 2019  Dear friend, We have all seen the images and r...   \n",
       "\n",
       "        party        country locality office      time AM_PM  Hour  Hour_Mil  \n",
       "1  Democratic  United States      n/a    n/a  11:28 PM    PM    11        23  \n",
       "2         n/a  United States      n/a    n/a  11:31 PM    PM    11        23  "
      ]
     },
     "execution_count": 13,
     "metadata": {},
     "output_type": "execute_result"
    }
   ],
   "source": [
    "import numpy as np\n",
    "\n",
    "df['AM_PM'] = df['time'].str[-2:]\n",
    "df['Hour'] = df['time'].str[:2]\n",
    "df['Hour'] = np.where(df['Hour'].str[1:]==\":\",df['Hour'].str[:1],df['Hour'])\n",
    "df['Hour'] = df['Hour'].astype(int)\n",
    "\n",
    "df['Hour_Mil'] = np.where(\n",
    "    df['AM_PM'] == 'PM', df['Hour'] + 12, np.where(\n",
    "    (df['AM_PM'] == 'AM') & (df['Hour'] == 12), df['Hour'] - 12, df['Hour'])) \n",
    "\n",
    "\n",
    "df.head(2)"
   ]
  },
  {
   "cell_type": "code",
   "execution_count": 14,
   "metadata": {},
   "outputs": [
    {
     "data": {
      "text/html": [
       "<div>\n",
       "<style scoped>\n",
       "    .dataframe tbody tr th:only-of-type {\n",
       "        vertical-align: middle;\n",
       "    }\n",
       "\n",
       "    .dataframe tbody tr th {\n",
       "        vertical-align: top;\n",
       "    }\n",
       "\n",
       "    .dataframe thead th {\n",
       "        text-align: right;\n",
       "    }\n",
       "</style>\n",
       "<table border=\"1\" class=\"dataframe\">\n",
       "  <thead>\n",
       "    <tr style=\"text-align: right;\">\n",
       "      <th></th>\n",
       "      <th>sender</th>\n",
       "      <th>subject</th>\n",
       "      <th>date</th>\n",
       "      <th>body</th>\n",
       "      <th>party</th>\n",
       "      <th>country</th>\n",
       "      <th>locality</th>\n",
       "      <th>office</th>\n",
       "      <th>time</th>\n",
       "      <th>AM_PM</th>\n",
       "      <th>Hour</th>\n",
       "      <th>Hour_Mil</th>\n",
       "      <th>month</th>\n",
       "      <th>day</th>\n",
       "      <th>year</th>\n",
       "      <th>month_num</th>\n",
       "    </tr>\n",
       "  </thead>\n",
       "  <tbody>\n",
       "    <tr>\n",
       "      <th>1</th>\n",
       "      <td>JusticeDemocrats.com</td>\n",
       "      <td>Critical preparations</td>\n",
       "      <td>July 3, 2019</td>\n",
       "      <td>Justice Democrats John   Last month, we neede...</td>\n",
       "      <td>Democratic</td>\n",
       "      <td>United States</td>\n",
       "      <td>n/a</td>\n",
       "      <td>n/a</td>\n",
       "      <td>11:28 PM</td>\n",
       "      <td>PM</td>\n",
       "      <td>11</td>\n",
       "      <td>23</td>\n",
       "      <td>July</td>\n",
       "      <td>3</td>\n",
       "      <td>2019</td>\n",
       "      <td>7</td>\n",
       "    </tr>\n",
       "    <tr>\n",
       "      <th>2</th>\n",
       "      <td>Ana Maria Archila</td>\n",
       "      <td>TAKE ACTION for Freedom: #CloseTheCamps</td>\n",
       "      <td>July 3, 2019</td>\n",
       "      <td>Dear friend, We have all seen the images and r...</td>\n",
       "      <td>n/a</td>\n",
       "      <td>United States</td>\n",
       "      <td>n/a</td>\n",
       "      <td>n/a</td>\n",
       "      <td>11:31 PM</td>\n",
       "      <td>PM</td>\n",
       "      <td>11</td>\n",
       "      <td>23</td>\n",
       "      <td>July</td>\n",
       "      <td>3</td>\n",
       "      <td>2019</td>\n",
       "      <td>7</td>\n",
       "    </tr>\n",
       "  </tbody>\n",
       "</table>\n",
       "</div>"
      ],
      "text/plain": [
       "                   sender                                  subject  \\\n",
       "1  JusticeDemocrats.com                      Critical preparations   \n",
       "2     Ana Maria Archila    TAKE ACTION for Freedom: #CloseTheCamps   \n",
       "\n",
       "           date                                               body  \\\n",
       "1  July 3, 2019   Justice Democrats John   Last month, we neede...   \n",
       "2  July 3, 2019  Dear friend, We have all seen the images and r...   \n",
       "\n",
       "        party        country locality office      time AM_PM  Hour  Hour_Mil  \\\n",
       "1  Democratic  United States      n/a    n/a  11:28 PM    PM    11        23   \n",
       "2         n/a  United States      n/a    n/a  11:31 PM    PM    11        23   \n",
       "\n",
       "  month day  year  month_num  \n",
       "1  July   3  2019          7  \n",
       "2  July   3  2019          7  "
      ]
     },
     "execution_count": 14,
     "metadata": {},
     "output_type": "execute_result"
    }
   ],
   "source": [
    "#Grab the day, month, year\n",
    "df[['month','day','year']] = df['date'].str.split(' ',expand=True)\n",
    "df['day'] = df['day'].str[:1]\n",
    "\n",
    "\n",
    "df['month_num'] = np.where(\n",
    "    df['month'] == 'January', 1, np.where(\n",
    "    df['month'] == 'February', 2, np.where(\n",
    "    df['month'] == 'March', 3, np.where(\n",
    "    df['month'] == 'April', 4, np.where(\n",
    "    df['month'] == 'May', 5, np.where(\n",
    "    df['month'] == 'June', 6, np.where(\n",
    "    df['month'] == 'July', 7, np.where(\n",
    "    df['month'] == 'August', 8, np.where(\n",
    "    df['month'] == 'September', 9, np.where(\n",
    "    df['month'] == 'October', 10, np.where(\n",
    "    df['month'] == 'November', 11, 12\n",
    ")))))))))))\n",
    "\n",
    "\n",
    "\n",
    "df.head(2)"
   ]
  },
  {
   "cell_type": "code",
   "execution_count": 15,
   "metadata": {},
   "outputs": [
    {
     "name": "stdout",
     "output_type": "stream",
     "text": [
      "(74148, 16)\n",
      "(9167, 16)\n"
     ]
    }
   ],
   "source": [
    "df_dom = df[df['country']==\"United States\"]\n",
    "df_for = df[df['country']!=\"United States\"]\n",
    "\n",
    "print(df_dom.shape)\n",
    "print(df_for.shape)"
   ]
  },
  {
   "cell_type": "markdown",
   "metadata": {},
   "source": [
    "### Exploratory Data Analysis"
   ]
  },
  {
   "cell_type": "code",
   "execution_count": 16,
   "metadata": {},
   "outputs": [
    {
     "data": {
      "image/png": "[encoded data removed]",
      "text/plain": [
       "<Figure size 432x288 with 1 Axes>"
      ]
     },
     "metadata": {
      "needs_background": "light"
     },
     "output_type": "display_data"
    }
   ],
   "source": [
    "#When are emails sent?\n",
    "# import plotly.express as px\n",
    "new_df = df_dom.groupby(['Hour_Mil']).sum().reset_index()\n",
    "new_df.rename(columns={ new_df.columns[1]: \"Count\" }, inplace = True)\n",
    "\n",
    "# fig = px.line(new_df, x=\"Hour_Mil\", y=\"Count\", title='US Emails Sent by Hour')\n",
    "# fig.show()\n",
    "\n",
    "import matplotlib.pyplot as plt\n",
    "\n",
    "plt.plot(new_df['Hour_Mil'],new_df['Count'])\n",
    "plt.title('title name')\n",
    "plt.xlabel('xAxis name')\n",
    "plt.ylabel('yAxis name')\n",
    "plt.show()"
   ]
  },
  {
   "cell_type": "code",
   "execution_count": 17,
   "metadata": {},
   "outputs": [],
   "source": [
    "month1_emails = df_dom[df_dom['month_num']==1]\n",
    "month2_emails = df_dom[df_dom['month_num']==2]\n",
    "month3_emails = df_dom[df_dom['month_num']==3]\n",
    "month4_emails = df_dom[df_dom['month_num']==4]\n",
    "month5_emails = df_dom[df_dom['month_num']==5]\n",
    "month6_emails = df_dom[df_dom['month_num']==6]\n",
    "month7_emails = df_dom[df_dom['month_num']==7]\n",
    "month8_emails = df_dom[df_dom['month_num']==8]\n",
    "month9_emails = df_dom[df_dom['month_num']==9]\n",
    "month10_emails = df_dom[df_dom['month_num']==10]\n",
    "month11_emails = df_dom[df_dom['month_num']==11]\n",
    "month12_emails = df_dom[df_dom['month_num']==12]\n",
    "\n",
    "m1 = month1_emails.groupby(['Hour_Mil']).sum().reset_index()\n",
    "m2 = month2_emails.groupby(['Hour_Mil']).sum().reset_index()\n",
    "m3 = month3_emails.groupby(['Hour_Mil']).sum().reset_index()\n",
    "m4 = month4_emails.groupby(['Hour_Mil']).sum().reset_index()\n",
    "m5 = month5_emails.groupby(['Hour_Mil']).sum().reset_index()\n",
    "m6 = month6_emails.groupby(['Hour_Mil']).sum().reset_index()\n",
    "m7 = month7_emails.groupby(['Hour_Mil']).sum().reset_index()\n",
    "m8 = month8_emails.groupby(['Hour_Mil']).sum().reset_index()\n",
    "m9 = month9_emails.groupby(['Hour_Mil']).sum().reset_index()\n",
    "m10 = month10_emails.groupby(['Hour_Mil']).sum().reset_index()\n",
    "m11 = month11_emails.groupby(['Hour_Mil']).sum().reset_index()\n",
    "m12 = month12_emails.groupby(['Hour_Mil']).sum().reset_index()\n",
    "\n",
    "m1.rename(columns={ m1.columns[1]: \"Count\" }, inplace = True)\n",
    "m2.rename(columns={ m2.columns[1]: \"Count\" }, inplace = True)\n",
    "m3.rename(columns={ m3.columns[1]: \"Count\" }, inplace = True)\n",
    "m4.rename(columns={ m4.columns[1]: \"Count\" }, inplace = True)\n",
    "m5.rename(columns={ m5.columns[1]: \"Count\" }, inplace = True)\n",
    "m6.rename(columns={ m6.columns[1]: \"Count\" }, inplace = True)\n",
    "m7.rename(columns={ m7.columns[1]: \"Count\" }, inplace = True)\n",
    "m8.rename(columns={ m8.columns[1]: \"Count\" }, inplace = True)\n",
    "m9.rename(columns={ m9.columns[1]: \"Count\" }, inplace = True)\n",
    "m10.rename(columns={ m10.columns[1]: \"Count\" }, inplace = True)\n",
    "m11.rename(columns={ m11.columns[1]: \"Count\" }, inplace = True)\n",
    "m12.rename(columns={ m12.columns[1]: \"Count\" }, inplace = True)\n"
   ]
  },
  {
   "cell_type": "code",
   "execution_count": 18,
   "metadata": {},
   "outputs": [
    {
     "data": {
      "image/png": "[encoded data removed]",
      "text/plain": [
       "<Figure size 432x288 with 12 Axes>"
      ]
     },
     "metadata": {
      "needs_background": "light"
     },
     "output_type": "display_data"
    }
   ],
   "source": [
    "fig, axs = plt.subplots(2, 6)\n",
    "\n",
    "axs[0, 0].plot(m1['Hour_Mil'], m1['Count'], 'tab:orange')\n",
    "axs[0, 0].set_title('January')\n",
    "\n",
    "axs[0, 1].plot(m2['Hour_Mil'], m2['Count'], 'tab:orange')\n",
    "axs[0, 1].set_title('February')\n",
    "\n",
    "axs[0, 2].plot(m3['Hour_Mil'], m3['Count'], 'tab:orange')\n",
    "axs[0, 2].set_title('March')\n",
    "\n",
    "axs[0, 3].plot(m4['Hour_Mil'], m4['Count'], 'tab:green')\n",
    "axs[0, 3].set_title('April')\n",
    "\n",
    "axs[0, 4].plot(m5['Hour_Mil'], m5['Count'], 'tab:green')\n",
    "axs[0, 4].set_title('May')\n",
    "\n",
    "axs[0, 5].plot(m6['Hour_Mil'], m6['Count'], 'tab:green')\n",
    "axs[0, 5].set_title('June')\n",
    "\n",
    "\n",
    "axs[1, 0].plot(m7['Hour_Mil'], -m7['Count'], 'tab:red')\n",
    "axs[1, 0].set_title('July')\n",
    "\n",
    "axs[1, 1].plot(m8['Hour_Mil'], -m8['Count'], 'tab:red')\n",
    "axs[1, 1].set_title('August')\n",
    "\n",
    "axs[1, 2].plot(m9['Hour_Mil'], -m9['Count'], 'tab:red')\n",
    "axs[1, 2].set_title('September')\n",
    "\n",
    "axs[1, 3].plot(m10['Hour_Mil'], -m10['Count'], 'tab:blue')\n",
    "axs[1, 3].set_title('October')\n",
    "\n",
    "axs[1, 4].plot(m11['Hour_Mil'], -m11['Count'], 'tab:blue')\n",
    "axs[1, 4].set_title('November')\n",
    "\n",
    "axs[1, 5].plot(m12['Hour_Mil'], -m12['Count'], 'tab:blue')\n",
    "axs[1, 5].set_title('December')\n",
    "\n",
    "for ax in axs.flat:\n",
    "    ax.set(xlabel='Hour of Day', ylabel='Count')\n",
    "\n",
    "# Hide x labels and tick labels for top plots and y ticks for right plots.\n",
    "for ax in axs.flat:\n",
    "    ax.label_outer()\n",
    "\n"
   ]
  },
  {
   "cell_type": "code",
   "execution_count": 19,
   "metadata": {},
   "outputs": [
    {
     "data": {
      "text/plain": [
       "0    46324\n",
       "1    27824\n",
       "Name: State, dtype: int64"
      ]
     },
     "execution_count": 19,
     "metadata": {},
     "output_type": "execute_result"
    }
   ],
   "source": [
    "df_dom['State'] = np.where(df_dom['locality'].isin([\n",
    "    'Alabama', 'Alaska', 'Arizona', 'Arkansas', 'California', \n",
    "    'Colorado', 'Connecticut', 'Delaware', 'District of Columbia', \n",
    "    'Florida', 'Georgia', 'Hawaii', 'Idaho', 'Illinois', \n",
    "    'Indiana', 'Iowa', 'Kansas', 'Kentucky', 'Louisiana', \n",
    "    'Maine', 'Maryland', 'Massachusetts', 'Michigan', 'Minnesota',\n",
    "    'Mississippi', 'Missouri', 'Montana', 'Nebraska', 'Nevada', \n",
    "    'New Hampshire', 'New Jersey', 'New Mexico', 'New York', 'North Carolina', \n",
    "    'North Dakota', 'Ohio', 'Oklahoma', 'Oregon', 'Pennsylvania',\n",
    "    'Rhode Island', 'South Carolina', 'South Dakota', 'Tennessee', \n",
    "    'Texas', 'Utah', 'Vermont', 'Virginia', 'Washington', 'West Virginia', \n",
    "    'Wisconsin', 'Wyoming'\n",
    "]),1,0)\n",
    "df_dom['State'].value_counts()"
   ]
  },
  {
   "cell_type": "code",
   "execution_count": 20,
   "metadata": {
    "scrolled": false
   },
   "outputs": [
    {
     "data": {
      "text/html": [
       "<div>\n",
       "<style scoped>\n",
       "    .dataframe tbody tr th:only-of-type {\n",
       "        vertical-align: middle;\n",
       "    }\n",
       "\n",
       "    .dataframe tbody tr th {\n",
       "        vertical-align: top;\n",
       "    }\n",
       "\n",
       "    .dataframe thead th {\n",
       "        text-align: right;\n",
       "    }\n",
       "</style>\n",
       "<table border=\"1\" class=\"dataframe\">\n",
       "  <thead>\n",
       "    <tr style=\"text-align: right;\">\n",
       "      <th></th>\n",
       "      <th>locality</th>\n",
       "      <th>ST</th>\n",
       "    </tr>\n",
       "  </thead>\n",
       "  <tbody>\n",
       "    <tr>\n",
       "      <th>3</th>\n",
       "      <td>Ohio</td>\n",
       "      <td>OH</td>\n",
       "    </tr>\n",
       "    <tr>\n",
       "      <th>4</th>\n",
       "      <td>Texas</td>\n",
       "      <td>TX</td>\n",
       "    </tr>\n",
       "    <tr>\n",
       "      <th>5</th>\n",
       "      <td>Kentucky</td>\n",
       "      <td>KY</td>\n",
       "    </tr>\n",
       "    <tr>\n",
       "      <th>8</th>\n",
       "      <td>Washington</td>\n",
       "      <td>WA</td>\n",
       "    </tr>\n",
       "    <tr>\n",
       "      <th>9</th>\n",
       "      <td>California</td>\n",
       "      <td>CA</td>\n",
       "    </tr>\n",
       "  </tbody>\n",
       "</table>\n",
       "</div>"
      ],
      "text/plain": [
       "     locality  ST\n",
       "3        Ohio  OH\n",
       "4       Texas  TX\n",
       "5    Kentucky  KY\n",
       "8  Washington  WA\n",
       "9  California  CA"
      ]
     },
     "execution_count": 20,
     "metadata": {},
     "output_type": "execute_result"
    }
   ],
   "source": [
    "import pandas as pd\n",
    "test = df_dom[df_dom['State']==1]\n",
    "test = test[['locality']]\n",
    "\n",
    "# Get State Crosswalk From Generic Website\n",
    "crosswalk = 'http://app02.clerk.org/menu/ccis/Help/CCIS%20Codes/state_codes.html'\n",
    "states = pd.read_html(crosswalk)[0]\n",
    "\n",
    "# Demo Crosswalking State Name to State Abbreviation\n",
    "test['ST'] = test['locality'].map(dict(zip(states['Description'], \n",
    "                                         states['Code'])))\n",
    "\n",
    "test.head()"
   ]
  },
  {
   "cell_type": "markdown",
   "metadata": {},
   "source": [
    "### Prepare data for sentiment classification"
   ]
  },
  {
   "cell_type": "code",
   "execution_count": 21,
   "metadata": {},
   "outputs": [],
   "source": [
    "from nltk.tokenize import RegexpTokenizer\n",
    "import contractions\n",
    "\n",
    "def punct(text):\n",
    "    token=RegexpTokenizer(r'\\w+')#regex\n",
    "    text = token.tokenize(text)\n",
    "    text= \" \".join(text)\n",
    "    return text \n",
    "\n",
    "def remove_special_characters(text):\n",
    "    # define the pattern to keep\n",
    "    pat = r'[^a-zA-z0-9.,!?/:;\\\"\\'\\s]' \n",
    "    return re.sub(pat, '', text)\n",
    "\n",
    "def remove_digits(text):\n",
    "    pattern = r'[^a-zA-z.,!?/:;\\\"\\'\\s]' \n",
    "    return re.sub(pattern, '', text)\n",
    "\n",
    "def lemmatize(text):\n",
    "    lemmed = contractions.fix(str(text))\n",
    "    return lemmed"
   ]
  },
  {
   "cell_type": "code",
   "execution_count": 22,
   "metadata": {},
   "outputs": [
    {
     "data": {
      "text/plain": [
       "1    justice democrats john last month we needed to...\n",
       "2    dear friend we have all seen the images and re...\n",
       "3    team access to education is fundamental to a c...\n",
       "4    beto for america john the trump administration...\n",
       "5    john tomorrow is the fourth of july a day for ...\n",
       "Name: cleaned_body, dtype: object"
      ]
     },
     "execution_count": 22,
     "metadata": {},
     "output_type": "execute_result"
    }
   ],
   "source": [
    "#Apply standardizing functions to body of email column\n",
    "\n",
    "#0.) Convert everything to string\n",
    "df['cleaned_body'] = df['body'].astype(str)\n",
    "#1.) Lowercase\n",
    "df.loc[:,'cleaned_body'] = df['cleaned_body'].str.lower()\n",
    "#2.) Remove punctuation\n",
    "df.loc[:,'cleaned_body'] = df['cleaned_body'].apply(func = punct)\n",
    "#3.) Remove non alpha-numeric characters\n",
    "df.loc[:,'cleaned_body'] = df['cleaned_body'].apply(func = remove_special_characters)\n",
    "#4.) Remove digits\n",
    "df.loc[:,'cleaned_body'] = df['cleaned_body'].apply(func = remove_digits)\n",
    "#5.) Lemmatize words\n",
    "df.loc[:,'cleaned_body'] = df['cleaned_body'].apply(func = lemmatize)\n",
    "\n",
    "#Present results\n",
    "df['cleaned_body'].head(5)"
   ]
  },
  {
   "cell_type": "code",
   "execution_count": 23,
   "metadata": {},
   "outputs": [
    {
     "name": "stderr",
     "output_type": "stream",
     "text": [
      "[nltk_data] Downloading package vader_lexicon to\n",
      "[nltk_data]     /Users/jonzimmerman/nltk_data...\n",
      "[nltk_data]   Package vader_lexicon is already up-to-date!\n"
     ]
    },
    {
     "data": {
      "text/plain": [
       "1    {'neg': 0.033, 'neu': 0.705, 'pos': 0.262, 'co...\n",
       "2    {'neg': 0.122, 'neu': 0.798, 'pos': 0.08, 'com...\n",
       "3    {'neg': 0.108, 'neu': 0.758, 'pos': 0.134, 'co...\n",
       "4    {'neg': 0.026, 'neu': 0.824, 'pos': 0.151, 'co...\n",
       "Name: sentiment, dtype: object"
      ]
     },
     "execution_count": 23,
     "metadata": {},
     "output_type": "execute_result"
    }
   ],
   "source": [
    "#Set up VADER score to get labels for doing classification later\n",
    "import nltk\n",
    "nltk.download('vader_lexicon')\n",
    "from nltk.sentiment.vader import SentimentIntensityAnalyzer\n",
    "sia = SentimentIntensityAnalyzer()\n",
    "df['sentiment'] = df['cleaned_body'].map(lambda x: sia.polarity_scores(x))\n",
    "df['sentiment'].head(4)"
   ]
  },
  {
   "cell_type": "code",
   "execution_count": 24,
   "metadata": {},
   "outputs": [
    {
     "data": {
      "text/html": [
       "<div>\n",
       "<style scoped>\n",
       "    .dataframe tbody tr th:only-of-type {\n",
       "        vertical-align: middle;\n",
       "    }\n",
       "\n",
       "    .dataframe tbody tr th {\n",
       "        vertical-align: top;\n",
       "    }\n",
       "\n",
       "    .dataframe thead th {\n",
       "        text-align: right;\n",
       "    }\n",
       "</style>\n",
       "<table border=\"1\" class=\"dataframe\">\n",
       "  <thead>\n",
       "    <tr style=\"text-align: right;\">\n",
       "      <th></th>\n",
       "      <th>sender</th>\n",
       "      <th>subject</th>\n",
       "      <th>date</th>\n",
       "      <th>body</th>\n",
       "      <th>party</th>\n",
       "      <th>country</th>\n",
       "      <th>locality</th>\n",
       "      <th>office</th>\n",
       "      <th>time</th>\n",
       "      <th>AM_PM</th>\n",
       "      <th>Hour</th>\n",
       "      <th>Hour_Mil</th>\n",
       "      <th>month</th>\n",
       "      <th>day</th>\n",
       "      <th>year</th>\n",
       "      <th>month_num</th>\n",
       "      <th>cleaned_body</th>\n",
       "      <th>sentiment</th>\n",
       "      <th>compound</th>\n",
       "      <th>comp_score</th>\n",
       "    </tr>\n",
       "  </thead>\n",
       "  <tbody>\n",
       "    <tr>\n",
       "      <th>1</th>\n",
       "      <td>JusticeDemocrats.com</td>\n",
       "      <td>Critical preparations</td>\n",
       "      <td>July 3, 2019</td>\n",
       "      <td>Justice Democrats John   Last month, we neede...</td>\n",
       "      <td>Democratic</td>\n",
       "      <td>United States</td>\n",
       "      <td>n/a</td>\n",
       "      <td>n/a</td>\n",
       "      <td>11:28 PM</td>\n",
       "      <td>PM</td>\n",
       "      <td>11</td>\n",
       "      <td>23</td>\n",
       "      <td>July</td>\n",
       "      <td>3</td>\n",
       "      <td>2019</td>\n",
       "      <td>7</td>\n",
       "      <td>justice democrats john last month we needed to...</td>\n",
       "      <td>{'neg': 0.033, 'neu': 0.705, 'pos': 0.262, 'co...</td>\n",
       "      <td>0.9876</td>\n",
       "      <td>1</td>\n",
       "    </tr>\n",
       "    <tr>\n",
       "      <th>2</th>\n",
       "      <td>Ana Maria Archila</td>\n",
       "      <td>TAKE ACTION for Freedom: #CloseTheCamps</td>\n",
       "      <td>July 3, 2019</td>\n",
       "      <td>Dear friend, We have all seen the images and r...</td>\n",
       "      <td>n/a</td>\n",
       "      <td>United States</td>\n",
       "      <td>n/a</td>\n",
       "      <td>n/a</td>\n",
       "      <td>11:31 PM</td>\n",
       "      <td>PM</td>\n",
       "      <td>11</td>\n",
       "      <td>23</td>\n",
       "      <td>July</td>\n",
       "      <td>3</td>\n",
       "      <td>2019</td>\n",
       "      <td>7</td>\n",
       "      <td>dear friend we have all seen the images and re...</td>\n",
       "      <td>{'neg': 0.122, 'neu': 0.798, 'pos': 0.08, 'com...</td>\n",
       "      <td>-0.9814</td>\n",
       "      <td>0</td>\n",
       "    </tr>\n",
       "  </tbody>\n",
       "</table>\n",
       "</div>"
      ],
      "text/plain": [
       "                   sender                                  subject  \\\n",
       "1  JusticeDemocrats.com                      Critical preparations   \n",
       "2     Ana Maria Archila    TAKE ACTION for Freedom: #CloseTheCamps   \n",
       "\n",
       "           date                                               body  \\\n",
       "1  July 3, 2019   Justice Democrats John   Last month, we neede...   \n",
       "2  July 3, 2019  Dear friend, We have all seen the images and r...   \n",
       "\n",
       "        party        country locality office      time AM_PM  Hour  Hour_Mil  \\\n",
       "1  Democratic  United States      n/a    n/a  11:28 PM    PM    11        23   \n",
       "2         n/a  United States      n/a    n/a  11:31 PM    PM    11        23   \n",
       "\n",
       "  month day  year  month_num  \\\n",
       "1  July   3  2019          7   \n",
       "2  July   3  2019          7   \n",
       "\n",
       "                                        cleaned_body  \\\n",
       "1  justice democrats john last month we needed to...   \n",
       "2  dear friend we have all seen the images and re...   \n",
       "\n",
       "                                           sentiment  compound  comp_score  \n",
       "1  {'neg': 0.033, 'neu': 0.705, 'pos': 0.262, 'co...    0.9876           1  \n",
       "2  {'neg': 0.122, 'neu': 0.798, 'pos': 0.08, 'com...   -0.9814           0  "
      ]
     },
     "execution_count": 24,
     "metadata": {},
     "output_type": "execute_result"
    }
   ],
   "source": [
    "df['compound']  = df['sentiment'].apply(lambda score_dict: score_dict['compound'])\n",
    "df['comp_score'] = df['compound'].apply(lambda x: 1 if x >=0 else 0)\n",
    "df.head(2)"
   ]
  },
  {
   "cell_type": "code",
   "execution_count": 25,
   "metadata": {},
   "outputs": [],
   "source": [
    "# df.to_csv('/Users/jonzimmerman/Desktop/Data Projects/Political Emails/main/data/emails_df_full.csv', index=False, header=False)\n"
   ]
  },
  {
   "cell_type": "code",
   "execution_count": 26,
   "metadata": {},
   "outputs": [
    {
     "data": {
      "text/plain": [
       "(83315, 20)"
      ]
     },
     "execution_count": 26,
     "metadata": {},
     "output_type": "execute_result"
    }
   ],
   "source": [
    "df.shape"
   ]
  },
  {
   "cell_type": "code",
   "execution_count": 27,
   "metadata": {
    "scrolled": true
   },
   "outputs": [
    {
     "data": {
      "text/plain": [
       "Index(['sender', 'subject', 'date', 'body', 'party', 'country', 'locality',\n",
       "       'office', 'time', 'AM_PM', 'Hour', 'Hour_Mil', 'month', 'day', 'year',\n",
       "       'month_num', 'cleaned_body', 'sentiment', 'compound', 'comp_score'],\n",
       "      dtype='object')"
      ]
     },
     "execution_count": 27,
     "metadata": {},
     "output_type": "execute_result"
    }
   ],
   "source": [
    "df.columns"
   ]
  },
  {
   "cell_type": "markdown",
   "metadata": {},
   "source": [
    "## Let's try out some models"
   ]
  },
  {
   "cell_type": "markdown",
   "metadata": {},
   "source": [
    "#### Model #1: Logistic Regression"
   ]
  },
  {
   "cell_type": "code",
   "execution_count": 28,
   "metadata": {},
   "outputs": [
    {
     "data": {
      "text/plain": [
       "1    68986\n",
       "0    14329\n",
       "Name: comp_score, dtype: int64"
      ]
     },
     "execution_count": 28,
     "metadata": {},
     "output_type": "execute_result"
    }
   ],
   "source": [
    "df['comp_score'].value_counts()"
   ]
  },
  {
   "cell_type": "code",
   "execution_count": 36,
   "metadata": {},
   "outputs": [
    {
     "data": {
      "text/plain": [
       "(74148, 20)"
      ]
     },
     "execution_count": 36,
     "metadata": {},
     "output_type": "execute_result"
    }
   ],
   "source": [
    "model_df = df[df['country']=='United States']\n",
    "model_df.shape"
   ]
  },
  {
   "cell_type": "code",
   "execution_count": 42,
   "metadata": {
    "scrolled": true
   },
   "outputs": [
    {
     "data": {
      "text/html": [
       "<div>\n",
       "<style scoped>\n",
       "    .dataframe tbody tr th:only-of-type {\n",
       "        vertical-align: middle;\n",
       "    }\n",
       "\n",
       "    .dataframe tbody tr th {\n",
       "        vertical-align: top;\n",
       "    }\n",
       "\n",
       "    .dataframe thead th {\n",
       "        text-align: right;\n",
       "    }\n",
       "</style>\n",
       "<table border=\"1\" class=\"dataframe\">\n",
       "  <thead>\n",
       "    <tr style=\"text-align: right;\">\n",
       "      <th></th>\n",
       "      <th>sender</th>\n",
       "      <th>subject</th>\n",
       "      <th>date</th>\n",
       "      <th>body</th>\n",
       "      <th>party</th>\n",
       "      <th>country</th>\n",
       "      <th>locality</th>\n",
       "      <th>office</th>\n",
       "      <th>time</th>\n",
       "      <th>AM_PM</th>\n",
       "      <th>Hour</th>\n",
       "      <th>Hour_Mil</th>\n",
       "      <th>month</th>\n",
       "      <th>day</th>\n",
       "      <th>year</th>\n",
       "      <th>month_num</th>\n",
       "      <th>cleaned_body</th>\n",
       "      <th>sentiment</th>\n",
       "      <th>compound</th>\n",
       "      <th>comp_score</th>\n",
       "    </tr>\n",
       "  </thead>\n",
       "  <tbody>\n",
       "    <tr>\n",
       "      <th>1</th>\n",
       "      <td>JusticeDemocrats.com</td>\n",
       "      <td>Critical preparations</td>\n",
       "      <td>July 3, 2019</td>\n",
       "      <td>Justice Democrats John   Last month, we neede...</td>\n",
       "      <td>Democratic</td>\n",
       "      <td>United States</td>\n",
       "      <td>n/a</td>\n",
       "      <td>n/a</td>\n",
       "      <td>11:28 PM</td>\n",
       "      <td>PM</td>\n",
       "      <td>11</td>\n",
       "      <td>23</td>\n",
       "      <td>July</td>\n",
       "      <td>3</td>\n",
       "      <td>2019</td>\n",
       "      <td>7</td>\n",
       "      <td>justice democrats john last month we needed to...</td>\n",
       "      <td>{'neg': 0.033, 'neu': 0.705, 'pos': 0.262, 'co...</td>\n",
       "      <td>0.9876</td>\n",
       "      <td>1</td>\n",
       "    </tr>\n",
       "  </tbody>\n",
       "</table>\n",
       "</div>"
      ],
      "text/plain": [
       "                   sender                subject          date  \\\n",
       "1  JusticeDemocrats.com    Critical preparations  July 3, 2019   \n",
       "\n",
       "                                                body       party  \\\n",
       "1   Justice Democrats John   Last month, we neede...  Democratic   \n",
       "\n",
       "         country locality office      time AM_PM  Hour  Hour_Mil month day  \\\n",
       "1  United States      n/a    n/a  11:28 PM    PM    11        23  July   3   \n",
       "\n",
       "   year  month_num                                       cleaned_body  \\\n",
       "1  2019          7  justice democrats john last month we needed to...   \n",
       "\n",
       "                                           sentiment  compound  comp_score  \n",
       "1  {'neg': 0.033, 'neu': 0.705, 'pos': 0.262, 'co...    0.9876           1  "
      ]
     },
     "execution_count": 42,
     "metadata": {},
     "output_type": "execute_result"
    }
   ],
   "source": [
    "model_df.head(1)"
   ]
  },
  {
   "cell_type": "code",
   "execution_count": 49,
   "metadata": {},
   "outputs": [
    {
     "name": "stdout",
     "output_type": "stream",
     "text": [
      "(51903,)\n",
      "(51903,)\n",
      "(22245,)\n",
      "(22245,)\n"
     ]
    }
   ],
   "source": [
    "from sklearn.model_selection import train_test_split\n",
    "\n",
    "y = model_df['comp_score']\n",
    "X = model_df['cleaned_body']\n",
    "X_train, X_test, y_train, y_test = train_test_split(X, y, test_size=0.30, random_state=42)\n",
    "\n",
    "print(X_train.shape)\n",
    "print(y_train.shape)\n",
    "print(X_test.shape)\n",
    "print(y_test.shape)"
   ]
  },
  {
   "cell_type": "code",
   "execution_count": 96,
   "metadata": {},
   "outputs": [
    {
     "name": "stdout",
     "output_type": "stream",
     "text": [
      "BOW_cv_train: (51903, 7537147)\n",
      "BOW_cv_test: (22245, 7537147)\n"
     ]
    }
   ],
   "source": [
    "from sklearn.feature_extraction.text import CountVectorizer\n",
    "\n",
    "#Count vectorizer for bag of words\n",
    "cv=CountVectorizer(\n",
    "    min_df=0,\n",
    "    max_df=1,\n",
    "    binary=False,\n",
    "    ngram_range=(1,3)\n",
    ")\n",
    "\n",
    "#transformed train reviews\n",
    "cv_train_text=cv.fit_transform(X_train)\n",
    "#transformed test reviews\n",
    "cv_test_text=cv.transform(X_test)\n",
    "\n",
    "print('BOW_cv_train:',cv_train_text.shape)\n",
    "print('BOW_cv_test:',cv_test_text.shape)"
   ]
  },
  {
   "cell_type": "code",
   "execution_count": 97,
   "metadata": {},
   "outputs": [
    {
     "name": "stdout",
     "output_type": "stream",
     "text": [
      "LogisticRegression(class_weight={0: 5.0, 1: 1.0}, random_state=42)\n"
     ]
    }
   ],
   "source": [
    "#training the model\n",
    "weights = {0:5.0, 1:1.0}\n",
    "\n",
    "lr=LogisticRegression(\n",
    "    #penalty='l2',\n",
    "    #max_iter=500,\n",
    "    #C=1,\n",
    "    random_state=42,\n",
    "    class_weight=weights\n",
    ")\n",
    "\n",
    "#Fitting the model for Bag of words\n",
    "lr_bow=lr.fit(cv_train_text,y_train)\n",
    "print(lr_bow)"
   ]
  },
  {
   "cell_type": "code",
   "execution_count": 98,
   "metadata": {},
   "outputs": [
    {
     "name": "stdout",
     "output_type": "stream",
     "text": [
      "BOW Negative Predictions:  921\n",
      "BOW Positive Predictions:  21324\n"
     ]
    }
   ],
   "source": [
    "#Predicting the model for bag of words\n",
    "lr_bow_predict=lr.predict(cv_test_text)\n",
    "\n",
    "##Predicting the model for tfidf features\n",
    "lr_tfidf_predict=lr.predict(tv_test_text)\n",
    "\n",
    "print('BOW Negative Predictions: ', lr_bow_predict.tolist().count(0))\n",
    "print('BOW Positive Predictions: ', lr_bow_predict.tolist().count(1))"
   ]
  },
  {
   "cell_type": "code",
   "execution_count": 99,
   "metadata": {},
   "outputs": [
    {
     "name": "stdout",
     "output_type": "stream",
     "text": [
      "lr_bow_score : 0.8581703753652506\n"
     ]
    }
   ],
   "source": [
    "from sklearn.metrics import classification_report,confusion_matrix,accuracy_score\n",
    "\n",
    "#Accuracy score for bag of words\n",
    "lr_bow_score=accuracy_score(y_test,lr_bow_predict)\n",
    "print(\"lr_bow_score :\",lr_bow_score)"
   ]
  },
  {
   "cell_type": "code",
   "execution_count": 100,
   "metadata": {},
   "outputs": [
    {
     "name": "stdout",
     "output_type": "stream",
     "text": [
      "              precision    recall  f1-score   support\n",
      "\n",
      "    Positive       0.82      0.20      0.32      3752\n",
      "    Negative       0.86      0.99      0.92     18493\n",
      "\n",
      "    accuracy                           0.86     22245\n",
      "   macro avg       0.84      0.60      0.62     22245\n",
      "weighted avg       0.85      0.86      0.82     22245\n",
      "\n"
     ]
    }
   ],
   "source": [
    "#Classification report for bag of words \n",
    "lr_bow_report=classification_report(y_test,lr_bow_predict,target_names=['Positive','Negative'])\n",
    "print(lr_bow_report)"
   ]
  },
  {
   "cell_type": "code",
   "execution_count": 101,
   "metadata": {},
   "outputs": [
    {
     "name": "stdout",
     "output_type": "stream",
     "text": [
      "[[18331   162]\n",
      " [ 2993   759]]\n"
     ]
    }
   ],
   "source": [
    "#confusion matrix for bag of words\n",
    "cm_bow=confusion_matrix(y_test,lr_bow_predict,labels=[1,0])\n",
    "print(cm_bow)"
   ]
  },
  {
   "cell_type": "code",
   "execution_count": null,
   "metadata": {},
   "outputs": [],
   "source": []
  }
 ],
 "metadata": {
  "kernelspec": {
   "display_name": "Python 3",
   "language": "python",
   "name": "python3"
  },
  "language_info": {
   "codemirror_mode": {
    "name": "ipython",
    "version": 3
   },
   "file_extension": ".py",
   "mimetype": "text/x-python",
   "name": "python",
   "nbconvert_exporter": "python",
   "pygments_lexer": "ipython3",
   "version": "3.8.3"
  }
 },
 "nbformat": 4,
 "nbformat_minor": 2
}
